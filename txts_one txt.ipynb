{
 "cells": [
  {
   "cell_type": "code",
   "execution_count": 1,
   "metadata": {},
   "outputs": [],
   "source": [
    "import os\n",
    "\n",
    "for i in range(2009, 2020):\n",
    "    directory = \"C:/Users/kiyj1/Documents/LISL/멜론 가사/아이돌 가사 엑셀파일/남돌 가사 %d/\"%(i)\n",
    "    outfile_name = \"남돌 가사 %d 텍파.txt\"%(i)\n",
    "\n",
    "    out_file = open(outfile_name, 'w')\n",
    "\n",
    "    files = os.listdir(directory)\n",
    "\n",
    "    for filename in files:\n",
    "        if \".txt\" not in filename:\n",
    "            continue\n",
    "        try:\n",
    "            file = open(directory + filename,'rt', encoding = \"utf-8\")\n",
    "            for line in file:\n",
    "                out_file.write(line)\n",
    "            out_file.write('\\n\\n')\n",
    "            file.close()\n",
    "\n",
    "        except:\n",
    "            file = open(directory + filename,'rt', encoding = \"euc-kr\")\n",
    "            for line in file:\n",
    "                out_file.write(line)\n",
    "            out_file.write('\\n\\n')\n",
    "            file.close()\n",
    "\n",
    "\n",
    "    out_file.close()"
   ]
  }
 ],
 "metadata": {
  "kernelspec": {
   "display_name": "Python 3",
   "language": "python",
   "name": "python3"
  },
  "language_info": {
   "codemirror_mode": {
    "name": "ipython",
    "version": 3
   },
   "file_extension": ".py",
   "mimetype": "text/x-python",
   "name": "python",
   "nbconvert_exporter": "python",
   "pygments_lexer": "ipython3",
   "version": "3.8.3"
  }
 },
 "nbformat": 4,
 "nbformat_minor": 4
}
