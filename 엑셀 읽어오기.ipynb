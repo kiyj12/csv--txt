{
 "cells": [
  {
   "cell_type": "code",
   "execution_count": null,
   "metadata": {},
   "outputs": [],
   "source": [
    "#엑셀 읽어오기\n",
    "\n",
    "import openpyxl as op\n",
    "\n",
    "\n",
    "file = op.load_workbook(\"C:/Users/kiyj1/OneDrive - 연세대학교 (Yonsei University)/문서/LISL/멜론 가사/아이돌 가사 엑셀파일/아이돌 가사 2014.xlsx\")\n",
    "\n",
    "sheet= file['여돌']\n",
    "\n",
    "\n",
    "cells = sheet['D2':'D23']\n",
    "for row in cells:\n",
    "    for cell in row:\n",
    "        print(cell.value)\n",
    "\n",
    "wb = op.Workbook()\n",
    "\n",
    "sheet1.title = '여돌'\n",
    "\n",
    "wb.save('./test.xlsx')\n",
    "wb.close\n"
   ]
  }
 ],
 "metadata": {
  "kernelspec": {
   "display_name": "Python 3",
   "language": "python",
   "name": "python3"
  },
  "language_info": {
   "codemirror_mode": {
    "name": "ipython",
    "version": 3
   },
   "file_extension": ".py",
   "mimetype": "text/x-python",
   "name": "python",
   "nbconvert_exporter": "python",
   "pygments_lexer": "ipython3",
   "version": "3.8.3"
  }
 },
 "nbformat": 4,
 "nbformat_minor": 4
}
