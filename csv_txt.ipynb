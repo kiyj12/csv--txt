{
 "cells": [
  {
   "cell_type": "code",
   "execution_count": 1,
   "metadata": {},
   "outputs": [
    {
     "data": {
      "text/html": [
       "<div>\n",
       "<style scoped>\n",
       "    .dataframe tbody tr th:only-of-type {\n",
       "        vertical-align: middle;\n",
       "    }\n",
       "\n",
       "    .dataframe tbody tr th {\n",
       "        vertical-align: top;\n",
       "    }\n",
       "\n",
       "    .dataframe thead th {\n",
       "        text-align: right;\n",
       "    }\n",
       "</style>\n",
       "<table border=\"1\" class=\"dataframe\">\n",
       "  <thead>\n",
       "    <tr style=\"text-align: right;\">\n",
       "      <th></th>\n",
       "      <th>Unnamed: 0</th>\n",
       "      <th>제목</th>\n",
       "      <th>가수</th>\n",
       "      <th>가사</th>\n",
       "    </tr>\n",
       "  </thead>\n",
       "  <tbody>\n",
       "    <tr>\n",
       "      <th>0</th>\n",
       "      <td>6.0</td>\n",
       "      <td>Mr. Chu (On Stage)</td>\n",
       "      <td>Apink (에이핑크)</td>\n",
       "      <td>한번 보면 두 번 더 보고 싶어\\n두번 세번 보면 너를 더 안고 싶어\\n너와 커플링...</td>\n",
       "    </tr>\n",
       "    <tr>\n",
       "      <th>1</th>\n",
       "      <td>8.0</td>\n",
       "      <td>Something</td>\n",
       "      <td>걸스데이</td>\n",
       "      <td>don't you look\\ninto my eyes and lie again\\nim...</td>\n",
       "    </tr>\n",
       "    <tr>\n",
       "      <th>2</th>\n",
       "      <td>13.0</td>\n",
       "      <td>Come Back Home</td>\n",
       "      <td>2NE1</td>\n",
       "      <td>One two three\\n넌 나를 떠났지만\\n어딘가에서 너의 숨소리가\\n들려와\\n...</td>\n",
       "    </tr>\n",
       "    <tr>\n",
       "      <th>3</th>\n",
       "      <td>14.0</td>\n",
       "      <td>짧은 치마 (Miniskirt)</td>\n",
       "      <td>AOA</td>\n",
       "      <td>Hey Hey Hey AOA\\nHey Hey Hey\\nBrave Sound Drop...</td>\n",
       "    </tr>\n",
       "    <tr>\n",
       "      <th>4</th>\n",
       "      <td>19.0</td>\n",
       "      <td>Touch My Body</td>\n",
       "      <td>씨스타</td>\n",
       "      <td>Touch my body Body\\nTouch my body Body\\nTouch ...</td>\n",
       "    </tr>\n",
       "  </tbody>\n",
       "</table>\n",
       "</div>"
      ],
      "text/plain": [
       "   Unnamed: 0                  제목            가수  \\\n",
       "0         6.0  Mr. Chu (On Stage)  Apink (에이핑크)   \n",
       "1         8.0           Something          걸스데이   \n",
       "2        13.0      Come Back Home          2NE1   \n",
       "3        14.0   짧은 치마 (Miniskirt)           AOA   \n",
       "4        19.0       Touch My Body           씨스타   \n",
       "\n",
       "                                                  가사  \n",
       "0  한번 보면 두 번 더 보고 싶어\\n두번 세번 보면 너를 더 안고 싶어\\n너와 커플링...  \n",
       "1  don't you look\\ninto my eyes and lie again\\nim...  \n",
       "2  One two three\\n넌 나를 떠났지만\\n어딘가에서 너의 숨소리가\\n들려와\\n...  \n",
       "3  Hey Hey Hey AOA\\nHey Hey Hey\\nBrave Sound Drop...  \n",
       "4  Touch my body Body\\nTouch my body Body\\nTouch ...  "
      ]
     },
     "execution_count": 1,
     "metadata": {},
     "output_type": "execute_result"
    }
   ],
   "source": [
    "import pandas as pd\n",
    "file = pd.read_excel(r'C:/Users/kiyj1/Documents/LISL/멜론 가사\\아이돌 가사 2014.xlsx', encoding = 'utf-8')\n",
    "file.head()"
   ]
  },
  {
   "cell_type": "code",
   "execution_count": 2,
   "metadata": {},
   "outputs": [],
   "source": [
    "lyrics = file.iloc[3]\n",
    "singer = file.iloc[2]\n",
    "title = file.iloc[1]\n"
   ]
  },
  {
   "cell_type": "code",
   "execution_count": 4,
   "metadata": {},
   "outputs": [],
   "source": [
    "for i in range(0,len(file)):\n",
    "    with open('아이돌 가사 %d/%s - %s.txt'%(title.iloc[i], singer.iloc[i]), 'w') as f:\n",
    "        f.write(str(lyrics.iloc[i]))\n",
    "    \n"
   ]
  },
  {
   "cell_type": "code",
   "execution_count": 15,
   "metadata": {},
   "outputs": [],
   "source": [
    "import pandas as pd\n",
    "\n",
    "for k in range(2003, 2014):\n",
    "    file = pd.read_excel(r'C:/Users/kiyj1/Documents/LISL/멜론 가사\\아이돌 가사 %d.xlsx'%(k), encoding = 'utf-8')\n",
    "    #file.head()\n",
    "\n",
    "    lyrics = file['가사']\n",
    "    singer = file['가수']\n",
    "    title = file['제목']\n",
    "\n",
    "    for i in range(0,len(file)):\n",
    "        with open('아이돌 가사 %d 텍파\\%s - %s.txt'%(k, title.iloc[i], singer.iloc[i]), 'w', encoding = 'utf-8') as f:\n",
    "            f.write(str(lyrics.iloc[i]))\n",
    "\n"
   ]
  },
  {
   "cell_type": "code",
   "execution_count": null,
   "metadata": {},
   "outputs": [],
   "source": []
  }
 ],
 "metadata": {
  "kernelspec": {
   "display_name": "Python 3",
   "language": "python",
   "name": "python3"
  },
  "language_info": {
   "codemirror_mode": {
    "name": "ipython",
    "version": 3
   },
   "file_extension": ".py",
   "mimetype": "text/x-python",
   "name": "python",
   "nbconvert_exporter": "python",
   "pygments_lexer": "ipython3",
   "version": "3.8.3"
  }
 },
 "nbformat": 4,
 "nbformat_minor": 4
}
