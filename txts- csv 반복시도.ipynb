{
 "cells": [
  {
   "cell_type": "code",
   "execution_count": 3,
   "metadata": {},
   "outputs": [],
   "source": [
    "import numpy as np\n",
    "import pandas as pd\n",
    "#pd.set_option('display.max_columns', None)\n",
    "#pd.set_option('display.max_rows', None)\n",
    "\n",
    "from os import listdir\n",
    "from os.path import isfile, join\n",
    "\n",
    "import warnings\n",
    "warnings.filterwarnings(action='ignore')"
   ]
  },
  {
   "cell_type": "code",
   "execution_count": 6,
   "metadata": {},
   "outputs": [
    {
     "ename": "TypeError",
     "evalue": "concat() got an unexpected keyword argument 'inplace'",
     "output_type": "error",
     "traceback": [
      "\u001b[1;31m---------------------------------------------------------------------------\u001b[0m",
      "\u001b[1;31mTypeError\u001b[0m                                 Traceback (most recent call last)",
      "\u001b[1;32m<ipython-input-6-b36af6433dd7>\u001b[0m in \u001b[0;36m<module>\u001b[1;34m\u001b[0m\n\u001b[0;32m     48\u001b[0m     \u001b[0mdata\u001b[0m \u001b[1;33m=\u001b[0m \u001b[0mdata\u001b[0m\u001b[1;33m.\u001b[0m\u001b[0mappend\u001b[0m\u001b[1;33m(\u001b[0m\u001b[0malist\u001b[0m\u001b[1;33m)\u001b[0m\u001b[1;33m\u001b[0m\u001b[1;33m\u001b[0m\u001b[0m\n\u001b[0;32m     49\u001b[0m \u001b[1;33m\u001b[0m\u001b[0m\n\u001b[1;32m---> 50\u001b[1;33m     \u001b[0mdf2\u001b[0m \u001b[1;33m=\u001b[0m \u001b[0mpd\u001b[0m\u001b[1;33m.\u001b[0m\u001b[0mconcat\u001b[0m\u001b[1;33m(\u001b[0m\u001b[1;33m[\u001b[0m\u001b[0mdf2\u001b[0m\u001b[1;33m,\u001b[0m \u001b[0mdata\u001b[0m\u001b[1;33m]\u001b[0m\u001b[1;33m,\u001b[0m \u001b[0maxis\u001b[0m \u001b[1;33m=\u001b[0m \u001b[1;36m1\u001b[0m\u001b[1;33m,\u001b[0m \u001b[0minplace\u001b[0m \u001b[1;33m=\u001b[0m \u001b[1;32mTrue\u001b[0m\u001b[1;33m)\u001b[0m\u001b[1;33m\u001b[0m\u001b[1;33m\u001b[0m\u001b[0m\n\u001b[0m\u001b[0;32m     51\u001b[0m     \u001b[0mdf2\u001b[0m \u001b[1;33m=\u001b[0m \u001b[0mdf2\u001b[0m\u001b[1;33m.\u001b[0m\u001b[0mreplace\u001b[0m\u001b[1;33m(\u001b[0m\u001b[1;34mr'\\n'\u001b[0m\u001b[1;33m,\u001b[0m \u001b[1;34m''\u001b[0m\u001b[1;33m,\u001b[0m \u001b[0mregex\u001b[0m\u001b[1;33m=\u001b[0m\u001b[1;32mTrue\u001b[0m\u001b[1;33m)\u001b[0m\u001b[1;33m\u001b[0m\u001b[1;33m\u001b[0m\u001b[0m\n\u001b[0;32m     52\u001b[0m     \u001b[1;32mdel\u001b[0m \u001b[0mdf2\u001b[0m\u001b[1;33m[\u001b[0m\u001b[1;34m'가사'\u001b[0m\u001b[1;33m]\u001b[0m\u001b[1;33m\u001b[0m\u001b[1;33m\u001b[0m\u001b[0m\n",
      "\u001b[1;31mTypeError\u001b[0m: concat() got an unexpected keyword argument 'inplace'"
     ]
    }
   ],
   "source": [
    "df = pd.DataFrame(columns=['제목','가수', '가사'])\n",
    "\n",
    "for y in (2013,2015):\n",
    "    files = [f for f in listdir('C:/Users/kiyj1/OneDrive - 연세대학교 (Yonsei University)/문서/LISL/멜론 가사/여돌 가사 txt 파일/곡별 여돌 가사/아이돌 가사 %d 텍파-강경'%(y)) if isfile(join('C:/Users/kiyj1/OneDrive - 연세대학교 (Yonsei University)/문서/LISL/멜론 가사/여돌 가사 txt 파일/곡별 여돌 가사/아이돌 가사 %d 텍파-강경'%(y), f))]\n",
    "\n",
    "    df2 = df.append(files)\n",
    "    df2.columns=['제목', '가수', '가사','0']\n",
    "    df2.drop('0', axis=1, inplace=True)\n",
    "\n",
    "    #데이터프레임에서 문자열 분리, 특정 열에 넣기\n",
    "    df2['가수'] = df2['제목'].str.split(\"-\").str[1]\n",
    "\n",
    "    # 데이터프레임 안에서 문자열 편집\n",
    "    df2['제목'] = df2['제목'].str.replace(' - .+txt','')\n",
    "    df2['가수'] = df2['가수'].str.replace('_.+txt','')\n",
    "\n",
    "    df = df2\n",
    "\n",
    "    # 가사 텍파들 읽어와서 데이터프레임에 넣기\n",
    "    import os\n",
    "\n",
    "    basedir='C:/Users/kiyj1/OneDrive - 연세대학교 (Yonsei University)/문서/LISL/멜론 가사/여돌 가사 txt 파일/곡별 여돌 가사/아이돌 가사 %d 텍파-강경/'%(y)\n",
    "\n",
    "    llist = []\n",
    "\n",
    "    files = os.listdir(basedir)\n",
    "\n",
    "    for filename in files:\n",
    "        if \".txt\" not in filename:\n",
    "            continue\n",
    "        try:\n",
    "            file = open(basedir + filename, 'rt', encoding='utf-8')\n",
    "            contents = file.readlines()\n",
    "            llist.append(contents)\n",
    "        except:\n",
    "            file = open(basedir + filename, 'rt', encoding='euc-kr')\n",
    "            contents = file.readlines()\n",
    "            llist.append(contents)\n",
    "\n",
    "    alist=[]\n",
    "\n",
    "    for i in llist:\n",
    "        alist.append(''.join(i))   \n",
    "\n",
    "\n",
    "\n",
    "    data = pd.DataFrame()\n",
    "    data = data.append(alist)\n",
    "\n",
    "    df2 = pd.concat([df2, data], axis = 1)\n",
    "    df2 = df2.replace(r'\\n', '', regex=True)\n",
    "    del df2['가사']\n",
    "    df2.rename(columns={0:'가사'}, inplace=True)\n",
    "\n",
    "    df2.to_excel('[강경]%d 여돌 가사.xlsx'%(y), index=False)"
   ]
  },
  {
   "cell_type": "code",
   "execution_count": 7,
   "metadata": {},
   "outputs": [
    {
     "data": {
      "text/plain": [
       "True"
      ]
     },
     "execution_count": 7,
     "metadata": {},
     "output_type": "execute_result"
    }
   ],
   "source": [
    "df.index.is_unique"
   ]
  },
  {
   "cell_type": "code",
   "execution_count": 8,
   "metadata": {},
   "outputs": [
    {
     "data": {
      "text/plain": [
       "True"
      ]
     },
     "execution_count": 8,
     "metadata": {},
     "output_type": "execute_result"
    }
   ],
   "source": [
    "df2.index.is_unique"
   ]
  },
  {
   "cell_type": "code",
   "execution_count": null,
   "metadata": {},
   "outputs": [],
   "source": []
  }
 ],
 "metadata": {
  "kernelspec": {
   "display_name": "Python 3",
   "language": "python",
   "name": "python3"
  },
  "language_info": {
   "codemirror_mode": {
    "name": "ipython",
    "version": 3
   },
   "file_extension": ".py",
   "mimetype": "text/x-python",
   "name": "python",
   "nbconvert_exporter": "python",
   "pygments_lexer": "ipython3",
   "version": "3.8.3"
  }
 },
 "nbformat": 4,
 "nbformat_minor": 4
}
