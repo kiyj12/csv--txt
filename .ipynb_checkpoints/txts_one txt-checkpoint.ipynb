{
 "cells": [
  {
   "cell_type": "code",
   "execution_count": 10,
   "metadata": {},
   "outputs": [],
   "source": [
    "import os\n",
    "\n",
    "\n",
    "directory = \"C:/Users/kiyj1/Documents/LISL/멜론 가사/여돌 가사 txt 파일/곡별 여돌 가사/아이돌 가사 2013 텍파/\"\n",
    "outfile_name = \"아이돌 가사 2013 텍파.txt\"\n",
    "\n",
    "out_file = open(outfile_name, 'w', encoding =\"utf-8\")\n",
    "\n",
    "files = os.listdir(directory)\n",
    "\n",
    "for filename in files:\n",
    "    if \".txt\" not in filename:\n",
    "        continue\n",
    "    try:\n",
    "        file = open(directory + filename,'rt', encoding = \"utf-8\")\n",
    "        for line in file:\n",
    "            out_file.write(line)\n",
    "        out_file.write('\\n\\n')\n",
    "        file.close()\n",
    "\n",
    "    except:\n",
    "        file = open(directory + filename,'rt', encoding = \"euc-kr\")\n",
    "        for line in file:\n",
    "            out_file.write(line)\n",
    "        out_file.write('\\n\\n')\n",
    "        file.close()\n",
    "\n",
    "\n",
    "out_file.close()"
   ]
  },
  {
   "cell_type": "code",
   "execution_count": null,
   "metadata": {},
   "outputs": [],
   "source": []
  }
 ],
 "metadata": {
  "kernelspec": {
   "display_name": "Python 3",
   "language": "python",
   "name": "python3"
  },
  "language_info": {
   "codemirror_mode": {
    "name": "ipython",
    "version": 3
   },
   "file_extension": ".py",
   "mimetype": "text/x-python",
   "name": "python",
   "nbconvert_exporter": "python",
   "pygments_lexer": "ipython3",
   "version": "3.8.3"
  }
 },
 "nbformat": 4,
 "nbformat_minor": 4
}
