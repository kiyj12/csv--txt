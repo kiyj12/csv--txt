{
 "cells": [
  {
   "cell_type": "code",
   "execution_count": 15,
   "metadata": {},
   "outputs": [],
   "source": [
    "import pandas as pd\n",
    "\n",
    "for k in range(2003, 2014):\n",
    "    file = pd.read_excel(r'C:/Users/kiyj1/Documents/LISL/멜론 가사\\아이돌 가사 %d.xlsx'%(k), encoding = 'utf-8')\n",
    "    #file.head()\n",
    "\n",
    "    lyrics = file['가사']\n",
    "    singer = file['가수']\n",
    "    title = file['제목']\n",
    "\n",
    "    for i in range(0,len(file)):\n",
    "        with open('아이돌 가사 %d 텍파\\%s - %s.txt'%(k, title.iloc[i], singer.iloc[i]), 'w', encoding = 'utf-8') as f:\n",
    "            f.write(str(lyrics.iloc[i]))\n",
    "\n"
   ]
  }
 ],
 "metadata": {
  "kernelspec": {
   "display_name": "Python 3",
   "language": "python",
   "name": "python3"
  },
  "language_info": {
   "codemirror_mode": {
    "name": "ipython",
    "version": 3
   },
   "file_extension": ".py",
   "mimetype": "text/x-python",
   "name": "python",
   "nbconvert_exporter": "python",
   "pygments_lexer": "ipython3",
   "version": "3.8.3"
  }
 },
 "nbformat": 4,
 "nbformat_minor": 4
}
